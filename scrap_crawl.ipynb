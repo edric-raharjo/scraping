{
  "nbformat": 4,
  "nbformat_minor": 0,
  "metadata": {
    "colab": {
      "provenance": [],
      "authorship_tag": "ABX9TyN3WA9//l+nETFTw1FEMUTl",
      "include_colab_link": true
    },
    "kernelspec": {
      "name": "python3",
      "display_name": "Python 3"
    },
    "language_info": {
      "name": "python"
    }
  },
  "cells": [
    {
      "cell_type": "markdown",
      "metadata": {
        "id": "view-in-github",
        "colab_type": "text"
      },
      "source": [
        "<a href=\"https://colab.research.google.com/github/edric-raharjo/scraping/blob/main/scrap_crawl.ipynb\" target=\"_parent\"><img src=\"https://colab.research.google.com/assets/colab-badge.svg\" alt=\"Open In Colab\"/></a>"
      ]
    },
    {
      "cell_type": "code",
      "execution_count": null,
      "metadata": {
        "id": "0U5uUfqB48tX",
        "colab": {
          "base_uri": "https://localhost:8080/"
        },
        "outputId": "a5ade395-e69b-4e7a-812a-6cbd4820204b"
      },
      "outputs": [
        {
          "output_type": "stream",
          "name": "stdout",
          "text": [
            "\u001b[2K     \u001b[90m━━━━━━━━━━━━━━━━━━━━━━━━━━━━━━━━━━━━━━━━\u001b[0m \u001b[32m286.4/286.4 kB\u001b[0m \u001b[31m3.9 MB/s\u001b[0m eta \u001b[36m0:00:00\u001b[0m\n",
            "\u001b[2K     \u001b[90m━━━━━━━━━━━━━━━━━━━━━━━━━━━━━━━━━━━━━━━━\u001b[0m \u001b[32m3.1/3.1 MB\u001b[0m \u001b[31m12.5 MB/s\u001b[0m eta \u001b[36m0:00:00\u001b[0m\n",
            "\u001b[2K     \u001b[90m━━━━━━━━━━━━━━━━━━━━━━━━━━━━━━━━━━━━━━━━\u001b[0m \u001b[32m247.1/247.1 kB\u001b[0m \u001b[31m16.0 MB/s\u001b[0m eta \u001b[36m0:00:00\u001b[0m\n",
            "\u001b[2K     \u001b[90m━━━━━━━━━━━━━━━━━━━━━━━━━━━━━━━━━━━━━━━━\u001b[0m \u001b[32m97.1/97.1 kB\u001b[0m \u001b[31m12.2 MB/s\u001b[0m eta \u001b[36m0:00:00\u001b[0m\n",
            "\u001b[2K     \u001b[90m━━━━━━━━━━━━━━━━━━━━━━━━━━━━━━━━━━━━━━━━\u001b[0m \u001b[32m74.6/74.6 kB\u001b[0m \u001b[31m10.0 MB/s\u001b[0m eta \u001b[36m0:00:00\u001b[0m\n",
            "\u001b[?25h"
          ]
        }
      ],
      "source": [
        "!pip install -qqq requests beautifulsoup4"
      ]
    },
    {
      "cell_type": "markdown",
      "source": [
        "### 1. Dengan menggunakan Python Requests dan Sup Cantik cobalah untuk scraping 1 halaman website unair news dan ambil judul hari ini"
      ],
      "metadata": {
        "id": "ZbjBIphj6e-_"
      }
    },
    {
      "cell_type": "code",
      "source": [
        "news_link = \"https://unair.ac.id/news/\""
      ],
      "metadata": {
        "id": "dPPiJof36P26"
      },
      "execution_count": null,
      "outputs": []
    },
    {
      "cell_type": "code",
      "source": [
        "import requests\n",
        "from bs4 import BeautifulSoup\n",
        "import re\n",
        "from datetime import date"
      ],
      "metadata": {
        "id": "eIzsBwHo6mmV"
      },
      "execution_count": null,
      "outputs": []
    },
    {
      "cell_type": "code",
      "source": [
        "news_page = requests.get(news_link)\n",
        "raw_news_html = news_page.text\n",
        "soup_news = BeautifulSoup(raw_news_html, 'html.parser')"
      ],
      "metadata": {
        "id": "rxLruBQ57Hjo"
      },
      "execution_count": null,
      "outputs": []
    },
    {
      "cell_type": "code",
      "source": [
        "today = date.today()\n",
        "str_today = today.strftime(\"%d/%m/%Y\")\n",
        "\n",
        "for i in soup_news.find_all(\"article\"):\n",
        "  x = i.findAll(\"span\", {\"class\":\"elementor-post-date\"})\n",
        "  if x:\n",
        "    if x[0].getText().strip() == str_today:\n",
        "      y = i.find(\"h2\", {\"class\":\"elementor-post__title\"})\n",
        "      if y:\n",
        "        print (y.getText().strip())\n",
        "      else:\n",
        "        z = i.find(\"h3\", {\"class\":\"elementor-post__title\"})\n",
        "        print (z.getText().strip())"
      ],
      "metadata": {
        "colab": {
          "base_uri": "https://localhost:8080/"
        },
        "id": "XIiN9UJdDABN",
        "outputId": "cdbc77e2-b345-46d8-f20e-38295924e7b8"
      },
      "execution_count": null,
      "outputs": [
        {
          "output_type": "stream",
          "name": "stdout",
          "text": [
            "SCOVIT: Evaluasi Kesetaraan Kualitas Pendidikan pada Tingkat Sekolah Dasar\n",
            "Malam Puncak PESTRA: Serukan Peryaan Kebebasan Melalui Sastra\n",
            "Dynamic Consent: Tawaran Kompromis antara Hukum dan Teknologi Untuk Pelindungan Data Pribadi dan Hak Atas Privasi\n",
            "Profil dan Faktor Pencetus Melasma: Studi Retrospektif\n"
          ]
        }
      ]
    },
    {
      "cell_type": "markdown",
      "source": [
        "### 2. Ambil Featured News"
      ],
      "metadata": {
        "id": "g_GnjoNSKtAf"
      }
    },
    {
      "cell_type": "code",
      "source": [
        "# Wait Time is 8 Minutes\n",
        "\n",
        "import requests\n",
        "from bs4 import BeautifulSoup\n",
        "import concurrent.futures\n",
        "break_it = False\n",
        "\n",
        "def fetch_data(idx):\n",
        "    global break_it\n",
        "    feat_link = \"https://unair.ac.id/unair-news-featured/page/\" + str(idx) + \"/\"\n",
        "    feat_page = requests.get(feat_link)\n",
        "    raw_feat_html = feat_page.text\n",
        "    soup_feat = BeautifulSoup(raw_feat_html, 'html.parser')\n",
        "    all_title = \"\"\n",
        "    for i in soup_feat.findAll(\"div\", {\"class\": \"elementor-post__card\"}):\n",
        "        title_exist = i.findAll(\"h3\", {\"class\": \"elementor-post__title\"})\n",
        "        if title_exist:\n",
        "            title_there = title_exist[0].getText().strip()\n",
        "            all_title += title_there + \"\\n\"\n",
        "    if all_title != \"\":\n",
        "        with open(\"/content/judul.txt\", \"a\") as t:\n",
        "            t.write(all_title)\n",
        "    else:\n",
        "        break_it = True\n",
        "\n",
        "with concurrent.futures.ThreadPoolExecutor() as executor:\n",
        "    idx = 1\n",
        "    while True:\n",
        "        futures = []\n",
        "        for _ in range(50):\n",
        "            futures.append(executor.submit(fetch_data, idx))\n",
        "            idx += 1\n",
        "\n",
        "        concurrent.futures.wait(futures, timeout=None)\n",
        "\n",
        "        if break_it == True:\n",
        "            break\n"
      ],
      "metadata": {
        "id": "h3PI4I-YPTkK"
      },
      "execution_count": null,
      "outputs": []
    },
    {
      "cell_type": "markdown",
      "source": [
        "### 3. Crawling with ScraPy (spooky 👻 🕷)"
      ],
      "metadata": {
        "id": "dAMmHjX6Um3v"
      }
    },
    {
      "cell_type": "code",
      "source": [
        "!pip install -qqq scrapy"
      ],
      "metadata": {
        "id": "_DQ_PiViI0JX"
      },
      "execution_count": 36,
      "outputs": []
    },
    {
      "cell_type": "code",
      "source": [
        "# #  Use This To Reset\n",
        "# import shutil\n",
        "# shutil.rmtree(\"/content/game\")"
      ],
      "metadata": {
        "id": "wj9Qv4qrQEnA"
      },
      "execution_count": 38,
      "outputs": []
    },
    {
      "cell_type": "code",
      "source": [
        "import scrapy\n",
        "!scrapy startproject game\n",
        "import os\n",
        "os.chdir(\"/content/game/game/spiders\")\n",
        "!scrapy genspider basic web"
      ],
      "metadata": {
        "id": "qIsSd1SVUxZG",
        "colab": {
          "base_uri": "https://localhost:8080/"
        },
        "outputId": "1042f891-46d8-4f92-e29f-caf7d89cb257"
      },
      "execution_count": 2,
      "outputs": [
        {
          "output_type": "stream",
          "name": "stdout",
          "text": [
            "New Scrapy project 'game', using template directory '/usr/local/lib/python3.10/dist-packages/scrapy/templates/project', created in:\n",
            "    /content/game\n",
            "\n",
            "You can start your first spider with:\n",
            "    cd game\n",
            "    scrapy genspider example example.com\n",
            "Created spider 'basic' using template 'basic' in module:\n",
            "  game.spiders.basic\n"
          ]
        }
      ]
    },
    {
      "cell_type": "code",
      "source": [
        "%%writefile /content/game/game/spiders/basic.py\n",
        "# Use This To Rewrite Spider\n",
        "\n",
        "import scrapy\n",
        "\n",
        "class BasicSpider(scrapy.Spider):\n",
        "  name = \"basic\"\n",
        "  start_urls = [\"https://store.playstation.com/en-id/category/05a2d027-cedc-4ac0-abeb-8fc26fec7180/\"]\n",
        "\n",
        "  def parse(self, response):\n",
        "    # Obtaining title and price\n",
        "    all_titles = response.css(\"span.psw-t-body.psw-c-t-1.psw-t-truncate-2.psw-m-b-2::text\").getall()\n",
        "    all_prices = response.css(\"span.psw-m-r-3::text\").getall()\n",
        "    for title, price in zip(all_titles, all_prices):\n",
        "      print (f\"{title} : {price}\")\n",
        "      yield {\n",
        "        \"title\" : title.strip(),\n",
        "        \"price\" : price.strip()\n",
        "      }"
      ],
      "metadata": {
        "colab": {
          "base_uri": "https://localhost:8080/"
        },
        "id": "fyLjLBSjPnMi",
        "outputId": "81e8ab7a-9de4-48bf-c774-e5dc26a772a9"
      },
      "execution_count": 37,
      "outputs": [
        {
          "output_type": "stream",
          "name": "stdout",
          "text": [
            "Overwriting /content/game/game/spiders/basic.py\n"
          ]
        }
      ]
    },
    {
      "cell_type": "code",
      "source": [
        "!scrapy crawl basic -o output.json"
      ],
      "metadata": {
        "colab": {
          "base_uri": "https://localhost:8080/"
        },
        "id": "JfHRUpL-foKp",
        "outputId": "f6783538-d6ff-4a15-80e4-7cc27d9242d8"
      },
      "execution_count": 39,
      "outputs": [
        {
          "output_type": "stream",
          "name": "stdout",
          "text": [
            "2023-11-05 22:57:47 [scrapy.utils.log] INFO: Scrapy 2.11.0 started (bot: game)\n",
            "2023-11-05 22:57:47 [scrapy.utils.log] INFO: Versions: lxml 4.9.3.0, libxml2 2.10.3, cssselect 1.2.0, parsel 1.8.1, w3lib 2.1.2, Twisted 22.10.0, Python 3.10.12 (main, Jun 11 2023, 05:26:28) [GCC 11.4.0], pyOpenSSL 23.2.0 (OpenSSL 3.1.4 24 Oct 2023), cryptography 41.0.5, Platform Linux-5.15.120+-x86_64-with-glibc2.35\n",
            "2023-11-05 22:57:47 [scrapy.addons] INFO: Enabled addons:\n",
            "[]\n",
            "2023-11-05 22:57:47 [asyncio] DEBUG: Using selector: EpollSelector\n",
            "2023-11-05 22:57:47 [scrapy.utils.log] DEBUG: Using reactor: twisted.internet.asyncioreactor.AsyncioSelectorReactor\n",
            "2023-11-05 22:57:47 [scrapy.utils.log] DEBUG: Using asyncio event loop: asyncio.unix_events._UnixSelectorEventLoop\n",
            "2023-11-05 22:57:47 [scrapy.extensions.telnet] INFO: Telnet Password: 8bfd0d213924268b\n",
            "2023-11-05 22:57:47 [scrapy.middleware] INFO: Enabled extensions:\n",
            "['scrapy.extensions.corestats.CoreStats',\n",
            " 'scrapy.extensions.telnet.TelnetConsole',\n",
            " 'scrapy.extensions.memusage.MemoryUsage',\n",
            " 'scrapy.extensions.feedexport.FeedExporter',\n",
            " 'scrapy.extensions.logstats.LogStats']\n",
            "2023-11-05 22:57:47 [scrapy.crawler] INFO: Overridden settings:\n",
            "{'BOT_NAME': 'game',\n",
            " 'FEED_EXPORT_ENCODING': 'utf-8',\n",
            " 'NEWSPIDER_MODULE': 'game.spiders',\n",
            " 'REQUEST_FINGERPRINTER_IMPLEMENTATION': '2.7',\n",
            " 'ROBOTSTXT_OBEY': True,\n",
            " 'SPIDER_MODULES': ['game.spiders'],\n",
            " 'TWISTED_REACTOR': 'twisted.internet.asyncioreactor.AsyncioSelectorReactor'}\n",
            "2023-11-05 22:57:47 [scrapy.middleware] INFO: Enabled downloader middlewares:\n",
            "['scrapy.downloadermiddlewares.robotstxt.RobotsTxtMiddleware',\n",
            " 'scrapy.downloadermiddlewares.httpauth.HttpAuthMiddleware',\n",
            " 'scrapy.downloadermiddlewares.downloadtimeout.DownloadTimeoutMiddleware',\n",
            " 'scrapy.downloadermiddlewares.defaultheaders.DefaultHeadersMiddleware',\n",
            " 'scrapy.downloadermiddlewares.useragent.UserAgentMiddleware',\n",
            " 'scrapy.downloadermiddlewares.retry.RetryMiddleware',\n",
            " 'scrapy.downloadermiddlewares.redirect.MetaRefreshMiddleware',\n",
            " 'scrapy.downloadermiddlewares.httpcompression.HttpCompressionMiddleware',\n",
            " 'scrapy.downloadermiddlewares.redirect.RedirectMiddleware',\n",
            " 'scrapy.downloadermiddlewares.cookies.CookiesMiddleware',\n",
            " 'scrapy.downloadermiddlewares.httpproxy.HttpProxyMiddleware',\n",
            " 'scrapy.downloadermiddlewares.stats.DownloaderStats']\n",
            "2023-11-05 22:57:47 [scrapy.middleware] INFO: Enabled spider middlewares:\n",
            "['scrapy.spidermiddlewares.httperror.HttpErrorMiddleware',\n",
            " 'scrapy.spidermiddlewares.offsite.OffsiteMiddleware',\n",
            " 'scrapy.spidermiddlewares.referer.RefererMiddleware',\n",
            " 'scrapy.spidermiddlewares.urllength.UrlLengthMiddleware',\n",
            " 'scrapy.spidermiddlewares.depth.DepthMiddleware']\n",
            "2023-11-05 22:57:47 [scrapy.middleware] INFO: Enabled item pipelines:\n",
            "[]\n",
            "2023-11-05 22:57:47 [scrapy.core.engine] INFO: Spider opened\n",
            "2023-11-05 22:57:47 [scrapy.extensions.logstats] INFO: Crawled 0 pages (at 0 pages/min), scraped 0 items (at 0 items/min)\n",
            "2023-11-05 22:57:47 [scrapy.extensions.telnet] INFO: Telnet console listening on 127.0.0.1:6023\n",
            "2023-11-05 22:57:47 [scrapy.core.engine] DEBUG: Crawled (200) <GET https://store.playstation.com/robots.txt> (referer: None)\n",
            "2023-11-05 22:57:47 [scrapy.core.engine] DEBUG: Crawled (200) <GET https://store.playstation.com/en-id/category/05a2d027-cedc-4ac0-abeb-8fc26fec7180/> (referer: None)\n",
            "Rogue Legacy 2 (Simplified Chinese, English, Korean, Japanese, Traditional Chinese) : Rp 349,000\n",
            "2023-11-05 22:57:48 [scrapy.core.scraper] DEBUG: Scraped from <200 https://store.playstation.com/en-id/category/05a2d027-cedc-4ac0-abeb-8fc26fec7180/>\n",
            "{'title': 'Rogue Legacy 2 (Simplified Chinese, English, Korean, Japanese, Traditional Chinese)', 'price': 'Rp\\xa0349,000'}\n",
            "Inscryption (Simplified Chinese, English, Korean, Japanese, Traditional Chinese) : Rp 279,000\n",
            "2023-11-05 22:57:48 [scrapy.core.scraper] DEBUG: Scraped from <200 https://store.playstation.com/en-id/category/05a2d027-cedc-4ac0-abeb-8fc26fec7180/>\n",
            "{'title': 'Inscryption (Simplified Chinese, English, Korean, Japanese, Traditional Chinese)', 'price': 'Rp\\xa0279,000'}\n",
            "Deus Ex: Mankind Divided (Game) : Rp 102,000\n",
            "2023-11-05 22:57:48 [scrapy.core.scraper] DEBUG: Scraped from <200 https://store.playstation.com/en-id/category/05a2d027-cedc-4ac0-abeb-8fc26fec7180/>\n",
            "{'title': 'Deus Ex: Mankind Divided (Game)', 'price': 'Rp\\xa0102,000'}\n",
            "Killing Floor 2 (Simplified Chinese, English, Korean, Japanese, Traditional Chinese) : Rp 429,000\n",
            "2023-11-05 22:57:48 [scrapy.core.scraper] DEBUG: Scraped from <200 https://store.playstation.com/en-id/category/05a2d027-cedc-4ac0-abeb-8fc26fec7180/>\n",
            "{'title': 'Killing Floor 2 (Simplified Chinese, English, Korean, Japanese, Traditional Chinese)', 'price': 'Rp\\xa0429,000'}\n",
            "Lonely Mountains: Downhill (Simplified Chinese, English, Korean, Japanese) : Rp 279,000\n",
            "2023-11-05 22:57:48 [scrapy.core.scraper] DEBUG: Scraped from <200 https://store.playstation.com/en-id/category/05a2d027-cedc-4ac0-abeb-8fc26fec7180/>\n",
            "{'title': 'Lonely Mountains: Downhill (Simplified Chinese, English, Korean, Japanese)', 'price': 'Rp\\xa0279,000'}\n",
            "Ratchet & Clank: Rift Apart (Simplified Chinese, English, Korean, Traditional Chinese) : Rp 1,029,000\n",
            "2023-11-05 22:57:48 [scrapy.core.scraper] DEBUG: Scraped from <200 https://store.playstation.com/en-id/category/05a2d027-cedc-4ac0-abeb-8fc26fec7180/>\n",
            "{'title': 'Ratchet & Clank: Rift Apart (Simplified Chinese, English, Korean, Traditional Chinese)', 'price': 'Rp\\xa01,029,000'}\n",
            "Horizon Forbidden West™ (Simplified Chinese, English, Korean, Thai, Japanese, Traditional Chinese) : Rp 579,000\n",
            "2023-11-05 22:57:48 [scrapy.core.scraper] DEBUG: Scraped from <200 https://store.playstation.com/en-id/category/05a2d027-cedc-4ac0-abeb-8fc26fec7180/>\n",
            "{'title': 'Horizon Forbidden West™ (Simplified Chinese, English, Korean, Thai, Japanese, Traditional Chinese)', 'price': 'Rp\\xa0579,000'}\n",
            "Horizon Forbidden West™ (Simplified Chinese, English, Korean, Thai, Japanese, Traditional Chinese) : Rp 729,000\n",
            "2023-11-05 22:57:48 [scrapy.core.scraper] DEBUG: Scraped from <200 https://store.playstation.com/en-id/category/05a2d027-cedc-4ac0-abeb-8fc26fec7180/>\n",
            "{'title': 'Horizon Forbidden West™ (Simplified Chinese, English, Korean, Thai, Japanese, Traditional Chinese)', 'price': 'Rp\\xa0729,000'}\n",
            "Hundred Days - Winemaking Simulator (Simplified Chinese, English, Korean, Japanese, Traditional Chinese) : Rp 429,000\n",
            "2023-11-05 22:57:48 [scrapy.core.scraper] DEBUG: Scraped from <200 https://store.playstation.com/en-id/category/05a2d027-cedc-4ac0-abeb-8fc26fec7180/>\n",
            "{'title': 'Hundred Days - Winemaking Simulator (Simplified Chinese, English, Korean, Japanese, Traditional Chinese)', 'price': 'Rp\\xa0429,000'}\n",
            "Carto (Simplified Chinese, English, Korean, Japanese, Traditional Chinese) : Rp 279,000\n",
            "2023-11-05 22:57:48 [scrapy.core.scraper] DEBUG: Scraped from <200 https://store.playstation.com/en-id/category/05a2d027-cedc-4ac0-abeb-8fc26fec7180/>\n",
            "{'title': 'Carto (Simplified Chinese, English, Korean, Japanese, Traditional Chinese)', 'price': 'Rp\\xa0279,000'}\n",
            "Dodgeball Academia (Simplified Chinese, English, Japanese) : Rp 349,000\n",
            "2023-11-05 22:57:48 [scrapy.core.scraper] DEBUG: Scraped from <200 https://store.playstation.com/en-id/category/05a2d027-cedc-4ac0-abeb-8fc26fec7180/>\n",
            "{'title': 'Dodgeball Academia (Simplified Chinese, English, Japanese)', 'price': 'Rp\\xa0349,000'}\n",
            "The Wild at Heart (Simplified Chinese, English, Korean, Japanese) : Rp 349,000\n",
            "2023-11-05 22:57:48 [scrapy.core.scraper] DEBUG: Scraped from <200 https://store.playstation.com/en-id/category/05a2d027-cedc-4ac0-abeb-8fc26fec7180/>\n",
            "{'title': 'The Wild at Heart (Simplified Chinese, English, Korean, Japanese)', 'price': 'Rp\\xa0349,000'}\n",
            "Thief (Game) : Rp 52,350\n",
            "2023-11-05 22:57:48 [scrapy.core.scraper] DEBUG: Scraped from <200 https://store.playstation.com/en-id/category/05a2d027-cedc-4ac0-abeb-8fc26fec7180/>\n",
            "{'title': 'Thief (Game)', 'price': 'Rp\\xa052,350'}\n",
            "MX vs ATV Legends (Simplified Chinese, English, Korean, Japanese) : Rp 318,450\n",
            "2023-11-05 22:57:48 [scrapy.core.scraper] DEBUG: Scraped from <200 https://store.playstation.com/en-id/category/05a2d027-cedc-4ac0-abeb-8fc26fec7180/>\n",
            "{'title': 'MX vs ATV Legends (Simplified Chinese, English, Korean, Japanese)', 'price': 'Rp\\xa0318,450'}\n",
            "HUMANITY (English, Japanese) : Rp 429,000\n",
            "2023-11-05 22:57:48 [scrapy.core.scraper] DEBUG: Scraped from <200 https://store.playstation.com/en-id/category/05a2d027-cedc-4ac0-abeb-8fc26fec7180/>\n",
            "{'title': 'HUMANITY (English, Japanese)', 'price': 'Rp\\xa0429,000'}\n",
            "Watch Dogs: Legion PS4 & PS5 (Simplified Chinese, English, Korean, Japanese, Traditional Chinese) : Rp 749,000\n",
            "2023-11-05 22:57:48 [scrapy.core.scraper] DEBUG: Scraped from <200 https://store.playstation.com/en-id/category/05a2d027-cedc-4ac0-abeb-8fc26fec7180/>\n",
            "{'title': 'Watch Dogs: Legion PS4 & PS5 (Simplified Chinese, English, Korean, Japanese, Traditional Chinese)', 'price': 'Rp\\xa0749,000'}\n",
            "Watch Dogs: Legion PS4 & PS5 (Simplified Chinese, English, Korean, Japanese, Traditional Chinese) : Rp 112,350\n",
            "2023-11-05 22:57:48 [scrapy.core.scraper] DEBUG: Scraped from <200 https://store.playstation.com/en-id/category/05a2d027-cedc-4ac0-abeb-8fc26fec7180/>\n",
            "{'title': 'Watch Dogs: Legion PS4 & PS5 (Simplified Chinese, English, Korean, Japanese, Traditional Chinese)', 'price': 'Rp\\xa0112,350'}\n",
            "UNCHARTED: Legacy of Thieves Collection (Simplified Chinese, English, Korean, Traditional Chinese) : Rp 729,000\n",
            "2023-11-05 22:57:48 [scrapy.core.scraper] DEBUG: Scraped from <200 https://store.playstation.com/en-id/category/05a2d027-cedc-4ac0-abeb-8fc26fec7180/>\n",
            "{'title': 'UNCHARTED: Legacy of Thieves Collection (Simplified Chinese, English, Korean, Traditional Chinese)', 'price': 'Rp\\xa0729,000'}\n",
            "ELEX II PS4 & PS5 (Simplified Chinese, English, Japanese) : Rp 373,050\n",
            "2023-11-05 22:57:48 [scrapy.core.scraper] DEBUG: Scraped from <200 https://store.playstation.com/en-id/category/05a2d027-cedc-4ac0-abeb-8fc26fec7180/>\n",
            "{'title': 'ELEX II PS4 & PS5 (Simplified Chinese, English, Japanese)', 'price': 'Rp\\xa0373,050'}\n",
            "Conan Exiles (Simplified Chinese, English, Korean) : Rp 699,000\n",
            "2023-11-05 22:57:48 [scrapy.core.scraper] DEBUG: Scraped from <200 https://store.playstation.com/en-id/category/05a2d027-cedc-4ac0-abeb-8fc26fec7180/>\n",
            "{'title': 'Conan Exiles (Simplified Chinese, English, Korean)', 'price': 'Rp\\xa0699,000'}\n",
            "Kena: Bridge of Spirits PS4 & PS5 (Simplified Chinese, English, Korean, Japanese, Traditional Chinese) : Rp 579,000\n",
            "2023-11-05 22:57:48 [scrapy.core.scraper] DEBUG: Scraped from <200 https://store.playstation.com/en-id/category/05a2d027-cedc-4ac0-abeb-8fc26fec7180/>\n",
            "{'title': 'Kena: Bridge of Spirits PS4 & PS5 (Simplified Chinese, English, Korean, Japanese, Traditional Chinese)', 'price': 'Rp\\xa0579,000'}\n",
            "Dishonored 2 (English/Chinese Ver.) : Rp 85,800\n",
            "2023-11-05 22:57:48 [scrapy.core.scraper] DEBUG: Scraped from <200 https://store.playstation.com/en-id/category/05a2d027-cedc-4ac0-abeb-8fc26fec7180/>\n",
            "{'title': 'Dishonored 2 (English/Chinese Ver.)', 'price': 'Rp\\xa085,800'}\n",
            "TOMB RAIDER DEFINITIVE EDITION full game (English/Chinese/Korean Ver.) : Rp 74,750\n",
            "2023-11-05 22:57:48 [scrapy.core.scraper] DEBUG: Scraped from <200 https://store.playstation.com/en-id/category/05a2d027-cedc-4ac0-abeb-8fc26fec7180/>\n",
            "{'title': 'TOMB RAIDER DEFINITIVE EDITION full game (English/Chinese/Korean Ver.)', 'price': 'Rp\\xa074,750'}\n",
            "DOOM Eternal Standard Edition (Simplified Chinese, English, Korean, Traditional Chinese) : Rp 532,000\n",
            "2023-11-05 22:57:48 [scrapy.core.scraper] DEBUG: Scraped from <200 https://store.playstation.com/en-id/category/05a2d027-cedc-4ac0-abeb-8fc26fec7180/>\n",
            "{'title': 'DOOM Eternal Standard Edition (Simplified Chinese, English, Korean, Traditional Chinese)', 'price': 'Rp\\xa0532,000'}\n",
            "2023-11-05 22:57:48 [scrapy.core.engine] INFO: Closing spider (finished)\n",
            "2023-11-05 22:57:48 [scrapy.extensions.feedexport] INFO: Stored json feed (24 items) in: output.json\n",
            "2023-11-05 22:57:48 [scrapy.statscollectors] INFO: Dumping Scrapy stats:\n",
            "{'downloader/request_bytes': 506,\n",
            " 'downloader/request_count': 2,\n",
            " 'downloader/request_method_count/GET': 2,\n",
            " 'downloader/response_bytes': 43215,\n",
            " 'downloader/response_count': 2,\n",
            " 'downloader/response_status_count/200': 2,\n",
            " 'elapsed_time_seconds': 0.463691,\n",
            " 'feedexport/success_count/FileFeedStorage': 1,\n",
            " 'finish_reason': 'finished',\n",
            " 'finish_time': datetime.datetime(2023, 11, 5, 22, 57, 48, 71260, tzinfo=datetime.timezone.utc),\n",
            " 'httpcompression/response_bytes': 339699,\n",
            " 'httpcompression/response_count': 2,\n",
            " 'item_scraped_count': 24,\n",
            " 'log_count/DEBUG': 29,\n",
            " 'log_count/INFO': 11,\n",
            " 'memusage/max': 136654848,\n",
            " 'memusage/startup': 136654848,\n",
            " 'response_received_count': 2,\n",
            " 'robotstxt/request_count': 1,\n",
            " 'robotstxt/response_count': 1,\n",
            " 'robotstxt/response_status_count/200': 1,\n",
            " 'scheduler/dequeued': 1,\n",
            " 'scheduler/dequeued/memory': 1,\n",
            " 'scheduler/enqueued': 1,\n",
            " 'scheduler/enqueued/memory': 1,\n",
            " 'start_time': datetime.datetime(2023, 11, 5, 22, 57, 47, 607569, tzinfo=datetime.timezone.utc)}\n",
            "2023-11-05 22:57:48 [scrapy.core.engine] INFO: Spider closed (finished)\n"
          ]
        }
      ]
    },
    {
      "cell_type": "markdown",
      "source": [
        "#### Compile to CSV"
      ],
      "metadata": {
        "id": "v1GTLh4hIIpu"
      }
    },
    {
      "cell_type": "code",
      "source": [
        "import pandas as pd\n",
        "\n",
        "with open(\"/content/judul.txt\", \"r\") as t:\n",
        "  txt_cont = t.read()\n",
        "  t.close()\n",
        "\n",
        "df_judul = pd.DataFrame()\n",
        "df_judul[\"judul\"] = txt_cont.split(\"\\n\")\n",
        "df_judul.to_csv(\"/content/judul.csv\", index = False)"
      ],
      "metadata": {
        "id": "eV0mPGXgILFU"
      },
      "execution_count": 45,
      "outputs": []
    },
    {
      "cell_type": "code",
      "source": [
        "import pandas as pd\n",
        "import json\n",
        "\n",
        "with open(\"/content/game/game/spiders/output.json\", \"r\") as json_file:\n",
        "    json_content = json.load(json_file)\n",
        "\n",
        "df_game = pd.DataFrame()\n",
        "df_game[\"title\"] = [list(i.values())[0] for i in json_content]\n",
        "df_game[\"price\"] = [list(i.values())[1] for i in json_content]\n",
        "df_game.to_csv(\"/content/game.csv\", index = False)"
      ],
      "metadata": {
        "id": "FAQiPqyVIwYO",
        "colab": {
          "base_uri": "https://localhost:8080/"
        },
        "outputId": "c631697b-fdeb-43de-95d4-122be759128f"
      },
      "execution_count": 44,
      "outputs": [
        {
          "output_type": "stream",
          "name": "stdout",
          "text": [
            "[{'title': 'Rogue Legacy 2 (Simplified Chinese, English, Korean, Japanese, Traditional Chinese)', 'price': 'Rp\\xa0349,000'}, {'title': 'Inscryption (Simplified Chinese, English, Korean, Japanese, Traditional Chinese)', 'price': 'Rp\\xa0279,000'}, {'title': 'Deus Ex: Mankind Divided (Game)', 'price': 'Rp\\xa0102,000'}, {'title': 'Killing Floor 2 (Simplified Chinese, English, Korean, Japanese, Traditional Chinese)', 'price': 'Rp\\xa0429,000'}, {'title': 'Lonely Mountains: Downhill (Simplified Chinese, English, Korean, Japanese)', 'price': 'Rp\\xa0279,000'}, {'title': 'Ratchet & Clank: Rift Apart (Simplified Chinese, English, Korean, Traditional Chinese)', 'price': 'Rp\\xa01,029,000'}, {'title': 'Horizon Forbidden West™ (Simplified Chinese, English, Korean, Thai, Japanese, Traditional Chinese)', 'price': 'Rp\\xa0579,000'}, {'title': 'Horizon Forbidden West™ (Simplified Chinese, English, Korean, Thai, Japanese, Traditional Chinese)', 'price': 'Rp\\xa0729,000'}, {'title': 'Hundred Days - Winemaking Simulator (Simplified Chinese, English, Korean, Japanese, Traditional Chinese)', 'price': 'Rp\\xa0429,000'}, {'title': 'Carto (Simplified Chinese, English, Korean, Japanese, Traditional Chinese)', 'price': 'Rp\\xa0279,000'}, {'title': 'Dodgeball Academia (Simplified Chinese, English, Japanese)', 'price': 'Rp\\xa0349,000'}, {'title': 'The Wild at Heart (Simplified Chinese, English, Korean, Japanese)', 'price': 'Rp\\xa0349,000'}, {'title': 'Thief (Game)', 'price': 'Rp\\xa052,350'}, {'title': 'MX vs ATV Legends (Simplified Chinese, English, Korean, Japanese)', 'price': 'Rp\\xa0318,450'}, {'title': 'HUMANITY (English, Japanese)', 'price': 'Rp\\xa0429,000'}, {'title': 'Watch Dogs: Legion PS4 & PS5 (Simplified Chinese, English, Korean, Japanese, Traditional Chinese)', 'price': 'Rp\\xa0749,000'}, {'title': 'Watch Dogs: Legion PS4 & PS5 (Simplified Chinese, English, Korean, Japanese, Traditional Chinese)', 'price': 'Rp\\xa0112,350'}, {'title': 'UNCHARTED: Legacy of Thieves Collection (Simplified Chinese, English, Korean, Traditional Chinese)', 'price': 'Rp\\xa0729,000'}, {'title': 'ELEX II PS4 & PS5 (Simplified Chinese, English, Japanese)', 'price': 'Rp\\xa0373,050'}, {'title': 'Conan Exiles (Simplified Chinese, English, Korean)', 'price': 'Rp\\xa0699,000'}, {'title': 'Kena: Bridge of Spirits PS4 & PS5 (Simplified Chinese, English, Korean, Japanese, Traditional Chinese)', 'price': 'Rp\\xa0579,000'}, {'title': 'Dishonored 2 (English/Chinese Ver.)', 'price': 'Rp\\xa085,800'}, {'title': 'TOMB RAIDER DEFINITIVE EDITION full game (English/Chinese/Korean Ver.)', 'price': 'Rp\\xa074,750'}, {'title': 'DOOM Eternal Standard Edition (Simplified Chinese, English, Korean, Traditional Chinese)', 'price': 'Rp\\xa0532,000'}]\n"
          ]
        }
      ]
    }
  ]
}